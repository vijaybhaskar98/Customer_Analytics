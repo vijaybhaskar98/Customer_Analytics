{
  "nbformat": 4,
  "nbformat_minor": 0,
  "metadata": {
    "colab": {
      "provenance": [],
      "mount_file_id": "1d0x3o4BqfaAnXJBzCAAcMTYNGynwKKVs",
      "authorship_tag": "ABX9TyOyKjSsDBp3Dg21A2uY8AqE",
      "include_colab_link": true
    },
    "kernelspec": {
      "name": "python3",
      "display_name": "Python 3"
    },
    "language_info": {
      "name": "python"
    }
  },
  "cells": [
    {
      "cell_type": "markdown",
      "metadata": {
        "id": "view-in-github",
        "colab_type": "text"
      },
      "source": [
        "<a href=\"https://colab.research.google.com/github/vijaybhaskar98/Customer_Analytics/blob/main/Stats_Project_01.ipynb\" target=\"_parent\"><img src=\"https://colab.research.google.com/assets/colab-badge.svg\" alt=\"Open In Colab\"/></a>"
      ]
    },
    {
      "cell_type": "markdown",
      "source": [
        "Importing necessary libraries; Connecting with data file"
      ],
      "metadata": {
        "id": "CNG2ozCP2c7J"
      }
    },
    {
      "cell_type": "code",
      "execution_count": 1,
      "metadata": {
        "id": "m7tFUHBK2GYD"
      },
      "outputs": [],
      "source": [
        "import pandas as pd\n",
        "import numpy as np\n",
        "import matplotlib as ploty\n",
        "from scipy import stats\n",
        "\n",
        "data = pd.read_csv(\"/content/drive/MyDrive/Projects/Python projects/Stats_Project_01/Brain Size Data.csv\",encoding='latin1')\n"
      ]
    },
    {
      "cell_type": "code",
      "source": [
        "data.head()"
      ],
      "metadata": {
        "id": "oV_Ge2zt4hhG"
      },
      "execution_count": null,
      "outputs": []
    },
    {
      "cell_type": "markdown",
      "source": [
        "Find out mean VIQ for each gender by grouping gnder column"
      ],
      "metadata": {
        "id": "UDU6cGe96BEB"
      }
    },
    {
      "cell_type": "code",
      "source": [
        "gender_data = data.groupby(\"Gender\")\n",
        "\n",
        "\n",
        "for name,value in gender_data['VIQ']:\n",
        " print(name,np.mean(value))\n"
      ],
      "metadata": {
        "colab": {
          "base_uri": "https://localhost:8080/"
        },
        "id": "OIuw_OCj6JTm",
        "outputId": "d3212532-3ba0-4a49-91ed-01e52de77a26"
      },
      "execution_count": null,
      "outputs": [
        {
          "output_type": "stream",
          "name": "stdout",
          "text": [
            "Female 109.45\n",
            "Male 115.25\n"
          ]
        }
      ]
    },
    {
      "cell_type": "markdown",
      "source": [
        "In above code for loop takes the gender_data as a dataframe ,and assign index vaue to \"name\" and specified VIQ value to to \"value\" string"
      ],
      "metadata": {
        "id": "JXABXsgK9I6J"
      }
    },
    {
      "cell_type": "markdown",
      "source": [
        "Studets t-test"
      ],
      "metadata": {
        "id": "qT6r9B5oCABq"
      }
    },
    {
      "cell_type": "code",
      "source": [
        "stats.ttest_1samp(data['VIQ'], 0)"
      ],
      "metadata": {
        "colab": {
          "base_uri": "https://localhost:8080/"
        },
        "id": "29HrBQdf-IOw",
        "outputId": "e9c06d1a-25ec-4baa-8d5d-1993ba88ee0f"
      },
      "execution_count": null,
      "outputs": [
        {
          "output_type": "execute_result",
          "data": {
            "text/plain": [
              "TtestResult(statistic=30.08809997084933, pvalue=1.3289196468727879e-28, df=39)"
            ]
          },
          "metadata": {},
          "execution_count": 16
        }
      ]
    },
    {
      "cell_type": "markdown",
      "source": [
        "Students t -test twosample test"
      ],
      "metadata": {
        "id": "lACdM2S86NBL"
      }
    },
    {
      "cell_type": "code",
      "source": [
        "female_viq =data[data['Gender']=='Female']['VIQ']\n",
        "male_viq =data[data['Gender']=='Male']['VIQ']\n",
        "stats.ttest_ind(female_viq,male_viq)"
      ],
      "metadata": {
        "colab": {
          "base_uri": "https://localhost:8080/"
        },
        "id": "V3kzR75p6SII",
        "outputId": "688824b2-aab6-4ed7-929f-0a993baeb1d6"
      },
      "execution_count": null,
      "outputs": [
        {
          "output_type": "execute_result",
          "data": {
            "text/plain": [
              "Ttest_indResult(statistic=-0.7726161723275012, pvalue=0.44452876778583217)"
            ]
          },
          "metadata": {},
          "execution_count": 4
        }
      ]
    }
  ]
}